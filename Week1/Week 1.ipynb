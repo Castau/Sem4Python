{
 "cells": [
  {
   "cell_type": "markdown",
   "metadata": {},
   "source": [
    "## Week 1 Exercise\n",
    "\n",
    "\n",
    "1. Create 5 list comprehensions to solve the following 5 problems:\n",
    "  1. Iterate a list of names to return a list of the names starting with H\n",
    "  2. In one line create a list of the numbers 1-100 to the power of 3\n",
    "  3. Iterate a list of names to create a list of tuples where the tuples first value is the length of the name and the second is the name\n",
    "  4. Iterate over each character in a string and get only those that are nummeric\n",
    "  5. Using only a list comprehension wrapped in set() get all possible combination from throwing 2 dice\n",
    "\n",
    "2. Create 2 dictionary comprehensions to solve the following:\n",
    "  1. Iterate a list of names and create a dictionary where key is the name and value is the length of the name\n",
    "  2. Iterate a list of numbers and create a dictionary with (key, value) being (number, squareroot of number)\n",
    "\n",
    "3. Progammatically using loops create a small program to produce a dictionary with all the 2 dice throw combinations as keys and their likelyhood in percent as values"
   ]
  },
  {
   "cell_type": "markdown",
   "metadata": {},
   "source": [
    "#### 1A"
   ]
  },
  {
   "cell_type": "code",
   "execution_count": 61,
   "metadata": {},
   "outputs": [
    {
     "data": {
      "text/plain": [
       "['Huolon', 'Halford Wyrmbane', 'Harrison Jones']"
      ]
     },
     "execution_count": 61,
     "metadata": {},
     "output_type": "execute_result"
    }
   ],
   "source": [
    "names = [\"Ysera\", \"Deathwing\", \"Huolon\", \"Wrathion\", \"Halford Wyrmbane\", \"Onyxia\", \"Sartharion\", \"Sindragosa\", \"Harrison Jones\"]\n",
    "\n",
    "H_names = [name for name in names if('H' in name)]\n",
    "H_names"
   ]
  },
  {
   "cell_type": "markdown",
   "metadata": {},
   "source": [
    "#### 1B"
   ]
  },
  {
   "cell_type": "code",
   "execution_count": 40,
   "metadata": {},
   "outputs": [
    {
     "name": "stdout",
     "output_type": "stream",
     "text": [
      "[0, 1, 8, 27, 64, 125, 216, 343, 512, 729, 1000, 1331, 1728, 2197, 2744, 3375, 4096, 4913, 5832, 6859, 8000, 9261, 10648, 12167, 13824, 15625, 17576, 19683, 21952, 24389, 27000, 29791, 32768, 35937, 39304, 42875, 46656, 50653, 54872, 59319, 64000, 68921, 74088, 79507, 85184, 91125, 97336, 103823, 110592, 117649, 125000, 132651, 140608, 148877, 157464, 166375, 175616, 185193, 195112, 205379, 216000, 226981, 238328, 250047, 262144, 274625, 287496, 300763, 314432, 328509, 343000, 357911, 373248, 389017, 405224, 421875, 438976, 456533, 474552, 493039, 512000, 531441, 551368, 571787, 592704, 614125, 636056, 658503, 681472, 704969, 729000, 753571, 778688, 804357, 830584, 857375, 884736, 912673, 941192, 970299, 1000000]\n"
     ]
    }
   ],
   "source": [
    "list_power3 = [value**3 for value in range(0,101)]\n",
    "print(list_power3)"
   ]
  },
  {
   "cell_type": "markdown",
   "metadata": {},
   "source": [
    "#### 1C"
   ]
  },
  {
   "cell_type": "code",
   "execution_count": 60,
   "metadata": {},
   "outputs": [
    {
     "data": {
      "text/plain": [
       "[(5, 'Ysera'),\n",
       " (9, 'Deathwing'),\n",
       " (6, 'Huolon'),\n",
       " (8, 'Wrathion'),\n",
       " (16, 'Halford Wyrmbane'),\n",
       " (6, 'Onyxia'),\n",
       " (10, 'Sartharion'),\n",
       " (10, 'Sindragosa'),\n",
       " (14, 'Harrison Jones')]"
      ]
     },
     "execution_count": 60,
     "metadata": {},
     "output_type": "execute_result"
    }
   ],
   "source": [
    "name_tuples = [(len(name), name) for name in names]\n",
    "name_tuples"
   ]
  },
  {
   "cell_type": "markdown",
   "metadata": {},
   "source": [
    "#### 1D"
   ]
  },
  {
   "cell_type": "code",
   "execution_count": 68,
   "metadata": {},
   "outputs": [
    {
     "data": {
      "text/plain": [
       "'41114574572'"
      ]
     },
     "execution_count": 68,
     "metadata": {},
     "output_type": "execute_result"
    }
   ],
   "source": [
    "string_of_chars = \"c4m1114 574un572up\"\n",
    "res_string = \"\"\n",
    "\n",
    "for char in string_of_chars :\n",
    "    if char.isnumeric() :\n",
    "        res_string += char\n",
    "        \n",
    "res_string"
   ]
  },
  {
   "cell_type": "markdown",
   "metadata": {},
   "source": [
    "#### 1E"
   ]
  },
  {
   "cell_type": "code",
   "execution_count": 3,
   "metadata": {},
   "outputs": [
    {
     "name": "stdout",
     "output_type": "stream",
     "text": [
      "{(1, 3), (6, 6), (5, 6), (2, 1), (6, 2), (1, 6), (5, 1), (2, 5), (1, 2), (3, 3), (5, 5), (4, 4), (6, 3), (1, 5), (3, 6), (2, 2), (4, 1), (1, 1), (6, 4), (3, 2), (2, 6), (5, 4), (4, 5), (5, 2), (1, 4), (2, 3), (4, 2), (6, 5), (3, 5), (5, 3), (4, 6), (6, 1), (3, 1), (4, 3), (3, 4), (2, 4)}\n"
     ]
    }
   ],
   "source": [
    "dice_comb = set([(die1, die2) for die1 in range(1, 7) for die2 in range(1, 7)])\n",
    "print(dice_comb)"
   ]
  },
  {
   "cell_type": "markdown",
   "metadata": {},
   "source": [
    "#### 2A"
   ]
  },
  {
   "cell_type": "code",
   "execution_count": 57,
   "metadata": {},
   "outputs": [
    {
     "data": {
      "text/plain": [
       "{'Ysera': 5,\n",
       " 'Deathwing': 9,\n",
       " 'Huolon': 6,\n",
       " 'Wrathion': 8,\n",
       " 'Halford Wyrmbane': 16,\n",
       " 'Onyxia': 6,\n",
       " 'Sartharion': 10,\n",
       " 'Sindragosa': 10,\n",
       " 'Harrison Jones': 14}"
      ]
     },
     "execution_count": 57,
     "metadata": {},
     "output_type": "execute_result"
    }
   ],
   "source": [
    "names_dict = {name : len(name) for name in names}\n",
    "names_dict"
   ]
  },
  {
   "cell_type": "markdown",
   "metadata": {},
   "source": [
    "#### 2B"
   ]
  },
  {
   "cell_type": "code",
   "execution_count": 56,
   "metadata": {},
   "outputs": [
    {
     "data": {
      "text/plain": [
       "{9: 3.0,\n",
       " 18: 4.242640687119285,\n",
       " 27: 5.196152422706632,\n",
       " 36: 6.0,\n",
       " 45: 6.708203932499369,\n",
       " 54: 7.3484692283495345,\n",
       " 63: 7.937253933193772,\n",
       " 72: 8.48528137423857,\n",
       " 81: 9.0,\n",
       " 90: 9.486832980505138}"
      ]
     },
     "execution_count": 56,
     "metadata": {},
     "output_type": "execute_result"
    }
   ],
   "source": [
    "import math\n",
    "num_dict = {num : math.sqrt(num) for num in range(9,91,9)}\n",
    "num_dict"
   ]
  },
  {
   "cell_type": "markdown",
   "metadata": {},
   "source": [
    "#### 3"
   ]
  },
  {
   "cell_type": "code",
   "execution_count": 31,
   "metadata": {},
   "outputs": [
    {
     "data": {
      "text/plain": [
       "{2: 2.8,\n",
       " 3: 5.6,\n",
       " 4: 8.3,\n",
       " 5: 11.1,\n",
       " 6: 13.9,\n",
       " 7: 16.7,\n",
       " 8: 13.9,\n",
       " 9: 11.1,\n",
       " 10: 8.3,\n",
       " 11: 5.6,\n",
       " 12: 2.8}"
      ]
     },
     "execution_count": 31,
     "metadata": {},
     "output_type": "execute_result"
    }
   ],
   "source": [
    "die1 = range(1,7)\n",
    "die2 = range(1,7)\n",
    "sum_dict = {sum_:0 for sum_ in range(2,13)}\n",
    "\n",
    "for cast1 in die1:\n",
    "    for cast2 in die2:\n",
    "        sum_dict[cast1+cast2] += 1\n",
    "\n",
    "for key in sum_dict.keys():\n",
    "    comb = sum_dict[key]\n",
    "    probability = comb/36*100 \n",
    "    sum_dict[key] = round(probability,1)\n",
    "sum_dict"
   ]
  },
  {
   "cell_type": "code",
   "execution_count": null,
   "metadata": {},
   "outputs": [],
   "source": []
  }
 ],
 "metadata": {
  "kernelspec": {
   "display_name": "Python 3",
   "language": "python",
   "name": "python3"
  },
  "language_info": {
   "codemirror_mode": {
    "name": "ipython",
    "version": 3
   },
   "file_extension": ".py",
   "mimetype": "text/x-python",
   "name": "python",
   "nbconvert_exporter": "python",
   "pygments_lexer": "ipython3",
   "version": "3.7.4"
  }
 },
 "nbformat": 4,
 "nbformat_minor": 2
}
