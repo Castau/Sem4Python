{
 "cells": [
  {
   "cell_type": "markdown",
   "metadata": {},
   "source": [
    "# Exercises\n",
    "\n",
    "  1. Write a function that iterates through a list and prints each value without using a loop. That is, write a recursive function to print the values of a list.\n",
    "  2. Write a function that can take any number of arguments and return all arguments concatenated or summed depending on the data type"
   ]
  },
  {
   "cell_type": "markdown",
   "metadata": {},
   "source": [
    "### 1"
   ]
  },
  {
   "cell_type": "code",
   "execution_count": 7,
   "metadata": {},
   "outputs": [
    {
     "name": "stdout",
     "output_type": "stream",
     "text": [
      "2\n",
      "4\n",
      "6\n",
      "8\n",
      "10\n",
      "12\n",
      "14\n",
      "16\n",
      "18\n",
      "20\n"
     ]
    }
   ],
   "source": [
    "def noloop(num_list):\n",
    "    if (len(num_list) > 0):\n",
    "        print(num_list[0])\n",
    "        num_list.pop(0)\n",
    "        noloop(num_list)\n",
    "\n",
    "even_nums = [val for val in range(2, 21,2)]\n",
    "noloop(even_nums)"
   ]
  },
  {
   "cell_type": "markdown",
   "metadata": {},
   "source": [
    "### 2"
   ]
  },
  {
   "cell_type": "code",
   "execution_count": 16,
   "metadata": {},
   "outputs": [
    {
     "data": {
      "text/plain": [
       "(20, 'Rigmor The Light Of Dawn')"
      ]
     },
     "execution_count": 16,
     "metadata": {},
     "output_type": "execute_result"
    }
   ],
   "source": [
    "def sum_cat(*arguments):\n",
    "    sum_ = 0;\n",
    "    str_ = \"\"\n",
    "    \n",
    "    for arg in arguments:        \n",
    "        if str(arg).isnumeric():\n",
    "            sum_ = sum_ + arg\n",
    "        else:\n",
    "            str_ = str_ + arg  \n",
    "    return sum_, str_;\n",
    "\n",
    "sum_cat('Rigmor ', 6, 'The ', 13, 'Light ', 'Of ', 1, 'Dawn')"
   ]
  }
 ],
 "metadata": {
  "kernelspec": {
   "display_name": "Python 3",
   "language": "python",
   "name": "python3"
  },
  "language_info": {
   "codemirror_mode": {
    "name": "ipython",
    "version": 3
   },
   "file_extension": ".py",
   "mimetype": "text/x-python",
   "name": "python",
   "nbconvert_exporter": "python",
   "pygments_lexer": "ipython3",
   "version": "3.7.4"
  }
 },
 "nbformat": 4,
 "nbformat_minor": 2
}
