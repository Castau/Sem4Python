{
 "cells": [
  {
   "cell_type": "markdown",
   "metadata": {},
   "source": [
    "# Class exercise 1\n",
    "\n",
    "Open a new Jupyter notebook and call it \"01 class exercise\" Create the first cell as a Markdown cell and give it a Headline (single #) called Class exercise 1: Add this image to the cell: https://miro.medium.com/max/1266/1*Pb8oEA1nGIONsSJk7QSVzg.png using this syntax ![](image url)\n",
    "\n",
    "The next cell should be a code cell that can take 2 floats from a user input and multiply them printing out the result.\n",
    "![](https://miro.medium.com/max/1266/1*Pb8oEA1nGIONsSJk7QSVzg.png)"
   ]
  },
  {
   "cell_type": "code",
   "execution_count": 2,
   "metadata": {},
   "outputs": [
    {
     "name": "stdout",
     "output_type": "stream",
     "text": [
      "write first number14\n",
      "write second number3\n",
      "42.0\n"
     ]
    }
   ],
   "source": [
    "num1 = float(input('write first number'))\n",
    "num2 = float(input('write second number'))\n",
    "print(num1 * num2)"
   ]
  }
 ],
 "metadata": {
  "kernelspec": {
   "display_name": "Python 3",
   "language": "python",
   "name": "python3"
  },
  "language_info": {
   "codemirror_mode": {
    "name": "ipython",
    "version": 3
   },
   "file_extension": ".py",
   "mimetype": "text/x-python",
   "name": "python",
   "nbconvert_exporter": "python",
   "pygments_lexer": "ipython3",
   "version": "3.7.4"
  }
 },
 "nbformat": 4,
 "nbformat_minor": 2
}
