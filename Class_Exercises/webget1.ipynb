{
 "cells": [
  {
   "cell_type": "code",
   "execution_count": null,
   "metadata": {},
   "outputs": [],
   "source": [
    "import os\n",
    "import urllib.request as req\n",
    "from urllib.parse import urlparse\n",
    "\n",
    "\n",
    "def download(url, to=None):\n",
    "    parsed_url = urlparse(url)\n",
    "\n",
    "    if parsed_url.scheme and parsed_url.netloc and parsed_url.path:\n",
    "        # IS URL\n",
    "        if (to == None):\n",
    "            filename = os.path.basename(parsed_url.path)\n",
    "            # Should perhaps contain a check for whether or not the file exists locally already.\n",
    "            req.urlretrieve(url, filename)\n",
    "        elif (to):\n",
    "            req.urlretrieve(url, to)\n",
    "        print(\"Attempting to retrieve doc from: \" + url)\n",
    "    else:\n",
    "      # IS NOT URL\n",
    "        print(\"Wrong url format: \" + url)"
   ]
  }
 ],
 "metadata": {
  "kernelspec": {
   "display_name": "Python 3",
   "language": "python",
   "name": "python3"
  },
  "language_info": {
   "codemirror_mode": {
    "name": "ipython",
    "version": 3
   },
   "file_extension": ".py",
   "mimetype": "text/x-python",
   "name": "python",
   "nbconvert_exporter": "python",
   "pygments_lexer": "ipython3",
   "version": "3.7.4"
  }
 },
 "nbformat": 4,
 "nbformat_minor": 2
}
