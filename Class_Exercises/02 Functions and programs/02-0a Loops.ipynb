{
 "cells": [
  {
   "cell_type": "markdown",
   "metadata": {},
   "source": [
    "# Exercises\n",
    "\n",
    "  1. Write a program that creates gramatically valid English sentences.\n",
    "      * Here, we consider a sentence to be gramatically correct when it follows the simple English grammar of the form: Article Adjective Noun Verb. That is, even the sentence A insect fly. is, for the moment, considered correct.\n",
    "      * Create additionally to the exercise above, a list of definite and indefinite articles and verbs from an online resource.\n",
    "  2. Extend the above program to generate all possible sentences with the given words."
   ]
  },
  {
   "cell_type": "code",
   "execution_count": 13,
   "metadata": {},
   "outputs": [
    {
     "name": "stdout",
     "output_type": "stream",
     "text": "['the vast society begin', 'the vast society fall', 'the vast failure begin', 'the vast failure fall', 'the victorious society begin', 'the victorious society fall', 'the victorious failure begin', 'the victorious failure fall', 'a vast society begin', 'a vast society fall', 'a vast failure begin', 'a vast failure fall', 'a victorious society begin', 'a victorious society fall', 'a victorious failure begin', 'a victorious failure fall']\n"
    }
   ],
   "source": [
    "import random\n",
    "\n",
    "articles = ['the', 'a']\n",
    "adjectives = ['vast', 'victorious']\n",
    "nouns = ['society', 'failure']\n",
    "verbs = ['begin', 'fall']\n",
    "sentences = []\n",
    "\n",
    "for article in articles:\n",
    "    for adjective in adjectives:\n",
    "        for noun in nouns:\n",
    "            for verb in verbs:\n",
    "                sentences.append(' '.join([article, adjective, noun, verb]))\n",
    "print(sentences)"
   ]
  }
 ],
 "metadata": {
  "kernelspec": {
   "display_name": "Python 3",
   "language": "python",
   "name": "python3"
  },
  "language_info": {
   "codemirror_mode": {
    "name": "ipython",
    "version": 3
   },
   "file_extension": ".py",
   "mimetype": "text/x-python",
   "name": "python",
   "nbconvert_exporter": "python",
   "pygments_lexer": "ipython3",
   "version": "3.7.4-final"
  }
 },
 "nbformat": 4,
 "nbformat_minor": 2
}