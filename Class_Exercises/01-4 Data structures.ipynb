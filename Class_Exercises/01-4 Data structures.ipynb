{
 "cells": [
  {
   "cell_type": "markdown",
   "metadata": {},
   "source": [
    "# Exercises\n",
    "\n",
    "#### Date Decoder\n",
    "  1. A date of the form 8-MAR-85 includes the name of the month, which must be translated to a number.\n",
    "  2. Create a dict suitable for decoding month names to numbers.\n",
    "  3. Create a function which uses string operations to split the date into 3 items using the \"-\" character.\n",
    "  4. Translate the month and return a tuple.\n",
    "  5. The function will accept a date in the \"dd-MMM-yy\" format and respond with a tuple of ( y , m , d )."
   ]
  },
  {
   "cell_type": "code",
   "execution_count": 10,
   "metadata": {},
   "outputs": [
    {
     "name": "stdout",
     "output_type": "stream",
     "text": [
      "('87', '5', '09')\n"
     ]
    }
   ],
   "source": [
    "month_dict = {\n",
    "    'JAN':'1',\n",
    "    'FEB':'2',\n",
    "    'MAR':'3',\n",
    "    'APR':'4',\n",
    "    'MAY':'5',\n",
    "    'JUN':'6',\n",
    "    'JUL':'7',\n",
    "    'AUG':'8',\n",
    "    'SEP':'9',\n",
    "    'OCT':'10',\n",
    "    'NOV':'11',\n",
    "    'DEC':'12'\n",
    "}\n",
    "\n",
    "def splitDate(strDate):\n",
    "    return strDate.split(\"-\");\n",
    "\n",
    "def convertDate(strDate):\n",
    "    dateArray = splitDate(strDate);\n",
    "    convertedDateArray = [dateArray[2], month_dict[dateArray[1]], dateArray[0]];\n",
    "    return tuple(convertedDateArray);\n",
    "print(convertDate(\"09-MAY-87\"));"
   ]
  }
 ],
 "metadata": {
  "kernelspec": {
   "display_name": "Python 3",
   "language": "python",
   "name": "python3"
  },
  "language_info": {
   "codemirror_mode": {
    "name": "ipython",
    "version": 3
   },
   "file_extension": ".py",
   "mimetype": "text/x-python",
   "name": "python",
   "nbconvert_exporter": "python",
   "pygments_lexer": "ipython3",
   "version": "3.7.4"
  }
 },
 "nbformat": 4,
 "nbformat_minor": 2
}
