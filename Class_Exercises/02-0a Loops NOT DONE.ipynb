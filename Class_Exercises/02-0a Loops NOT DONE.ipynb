{
 "cells": [
  {
   "cell_type": "markdown",
   "metadata": {},
   "source": [
    "# Exercises\n",
    "\n",
    "  1. Write a program that creates gramatically valid English sentences.\n",
    "      * Here, we consider a sentence to be gramatically correct when it follows the simple English grammar of the form: Article Adjective Noun Verb. That is, even the sentence A insect fly. is, for the moment, considered correct.\n",
    "      * Create additionally to the exercise above, a list of definite and indefinite articles and verbs from an online resource.\n",
    "  2. Extend the above program to generate all possible sentences with the given words."
   ]
  },
  {
   "cell_type": "code",
   "execution_count": 1,
   "metadata": {},
   "outputs": [],
   "source": [
    "import random\n",
    "\n",
    "articles = ['the', 'a', 'an']\n",
    "adjectives = ['magnificent', 'inexpensive', 'gifted', 'hallowed', 'vast', 'victorious']\n",
    "nouns = ['control', 'society', 'failure', 'meaning', 'road','unit']\n",
    "verbs = ['begin', 'choose', 'fall', 'forgive','leave','make']\n",
    "\n",
    "## TODO\n",
    "    "
   ]
  }
 ],
 "metadata": {
  "kernelspec": {
   "display_name": "Python 3",
   "language": "python",
   "name": "python3"
  },
  "language_info": {
   "codemirror_mode": {
    "name": "ipython",
    "version": 3
   },
   "file_extension": ".py",
   "mimetype": "text/x-python",
   "name": "python",
   "nbconvert_exporter": "python",
   "pygments_lexer": "ipython3",
   "version": "3.7.4"
  }
 },
 "nbformat": 4,
 "nbformat_minor": 2
}
