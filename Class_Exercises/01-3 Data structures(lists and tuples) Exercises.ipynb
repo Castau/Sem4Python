{
 "cells": [
  {
   "cell_type": "markdown",
   "metadata": {},
   "source": [
    "# Exercises\n",
    "\n",
    "  1. Use the `range()` function to make a list of the odd numbers from 1 to 20. **Hint** in ipython and this notebooks you can see a functions help text by executing for example `range?`\n",
    "  2. Create a list with the even number values from two to one million. Use `min()` and `max()` to make sure your list actually starts at two and ends at one million. Also, use the `sum()` function to compute the sum of all values. Time the execution time using `%timeit`.\n",
    "  3. Create a list of the multiples of 3 - going from 3 to 300. **HINT: USE A LIST COMPREHENSION**\n",
    "  4. A number raised to the third power is called a cube. For example, the cube of 2 is written as `2**3` in Python. Create a list of the first 10 cubes (that is, the cube of each integer from 1 through 10)."
   ]
  },
  {
   "cell_type": "markdown",
   "metadata": {},
   "source": [
    "### 1"
   ]
  },
  {
   "cell_type": "code",
   "execution_count": 5,
   "metadata": {},
   "outputs": [
    {
     "data": {
      "text/plain": [
       "[1, 3, 5, 7, 9, 11, 13, 15, 17, 19]"
      ]
     },
     "execution_count": 5,
     "metadata": {},
     "output_type": "execute_result"
    }
   ],
   "source": [
    "odd_nums = []\n",
    "for i in range(21) :\n",
    "    if i % 2 != 0 : odd_nums.append(i)\n",
    "odd_nums"
   ]
  },
  {
   "cell_type": "markdown",
   "metadata": {},
   "source": [
    "### 2"
   ]
  },
  {
   "cell_type": "code",
   "execution_count": 27,
   "metadata": {},
   "outputs": [
    {
     "name": "stdout",
     "output_type": "stream",
     "text": [
      "Lowest number is 2?  True\n",
      "Highest number is 1.000.000? True\n",
      "Sum of even numbers:  250000500000\n",
      "One way to time\n",
      "72.4 ms ± 1.02 ms per loop (mean ± std. dev. of 7 runs, 10 loops each)\n",
      "Other way to time 0.704667999999856\n"
     ]
    }
   ],
   "source": [
    "import timeit\n",
    "\n",
    "even_nums = []\n",
    "for i in range(2, 1000001): \n",
    "    if i % 2 == 0: even_nums.append(i)\n",
    "\n",
    "lowest = min(even_nums)\n",
    "higest = max(even_nums)\n",
    "print('Lowest number is 2? ', lowest == 2)\n",
    "print('Highest number is 1.000.000?', higest == 1000000)\n",
    "print('Sum of even numbers: ', sum(even_nums))\n",
    "\n",
    "print('One way to time')\n",
    "def totime(lownum, highnum):\n",
    "    even_nums = []\n",
    "    for i in range(lownum, highnum): \n",
    "        if i % 2 == 0: even_nums.append(i)\n",
    "            \n",
    "%timeit totime(2, 1000001)\n",
    "\n",
    "cmd = \"\"\"\n",
    "even_nums = []\n",
    "for i in range(2, 1000001): \n",
    "    if i % 2 == 0: even_nums.append(i)\"\"\"\n",
    "print('Other way to time', timeit.timeit(cmd, number=10))"
   ]
  }
 ],
 "metadata": {
  "kernelspec": {
   "display_name": "Python 3",
   "language": "python",
   "name": "python3"
  },
  "language_info": {
   "codemirror_mode": {
    "name": "ipython",
    "version": 3
   },
   "file_extension": ".py",
   "mimetype": "text/x-python",
   "name": "python",
   "nbconvert_exporter": "python",
   "pygments_lexer": "ipython3",
   "version": "3.7.4"
  }
 },
 "nbformat": 4,
 "nbformat_minor": 2
}
